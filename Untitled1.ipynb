{
 "cells": [
  {
   "cell_type": "code",
   "execution_count": 1,
   "id": "a471bf36",
   "metadata": {},
   "outputs": [
    {
     "name": "stdout",
     "output_type": "stream",
     "text": [
      "Enter making price burger15\n",
      "Enter making price soda10\n",
      "Enter making price combo20\n",
      "Fixed Profit: 5\n"
     ]
    }
   ],
   "source": [
    "MpB = int(input(\"Enter making price burger\"))\n",
    "MpS = int(input(\"Enter making price soda\"))\n",
    "MpC = int(input(\"Enter making price combo\"))\n",
    "\n",
    "\n",
    "FpB = MpB + MpS - MpC \n",
    "print(f\"Fixed Profit: {FpB}\")\n",
    "\n"
   ]
  },
  {
   "cell_type": "code",
   "execution_count": 5,
   "id": "3baa9cf9",
   "metadata": {},
   "outputs": [
    {
     "name": "stdout",
     "output_type": "stream",
     "text": [
      "Enter the point px: 1\n",
      "Enter the point py: 1\n",
      "Enter the point qx: 2\n",
      "Enter the point qy: 2\n",
      "(3, 3)\n"
     ]
    }
   ],
   "source": [
    "px = int(input(\"Enter the point px: \"))\n",
    "py = int(input(\"Enter the point py: \"))\n",
    "qx = int(input(\"Enter the point qx: \"))\n",
    "qy = int(input(\"Enter the point qy: \"))\n",
    "rx = (qx - px) + qx\n",
    "ry = (qy - py) + qy\n",
    "r = (rx, ry)\n",
    "print(r)"
   ]
  },
  {
   "cell_type": "code",
   "execution_count": 7,
   "id": "e406b7a4",
   "metadata": {},
   "outputs": [
    {
     "name": "stdout",
     "output_type": "stream",
     "text": [
      "Enter seconds3670\n",
      "1 1 10\n"
     ]
    }
   ],
   "source": [
    "seconds = int(input(\"Enter seconds\"))\n",
    "hours = seconds//3600\n",
    "seconds -= hours*3600\n",
    "minutes = seconds//60\n",
    "seconds -= minutes*60\n",
    "print(hours, minutes, seconds)\n"
   ]
  },
  {
   "cell_type": "code",
   "execution_count": null,
   "id": "9927001e",
   "metadata": {},
   "outputs": [],
   "source": []
  }
 ],
 "metadata": {
  "kernelspec": {
   "display_name": "Python 3 (ipykernel)",
   "language": "python",
   "name": "python3"
  },
  "language_info": {
   "codemirror_mode": {
    "name": "ipython",
    "version": 3
   },
   "file_extension": ".py",
   "mimetype": "text/x-python",
   "name": "python",
   "nbconvert_exporter": "python",
   "pygments_lexer": "ipython3",
   "version": "3.10.7"
  }
 },
 "nbformat": 4,
 "nbformat_minor": 5
}
